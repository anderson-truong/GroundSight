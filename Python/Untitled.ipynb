{
 "cells": [
  {
   "cell_type": "code",
   "execution_count": 1,
   "id": "ad2ec3d7-949f-42c9-8a71-3cfe49801d28",
   "metadata": {},
   "outputs": [],
   "source": [
    "import random"
   ]
  },
  {
   "cell_type": "code",
   "execution_count": 10,
   "id": "dbe996d8-77fa-43f1-9c49-05bfbefdf108",
   "metadata": {},
   "outputs": [
    {
     "data": {
      "text/plain": [
       "'GCGATGACAAGCAGCTTTGATTGCGCCAAC'"
      ]
     },
     "execution_count": 10,
     "metadata": {},
     "output_type": "execute_result"
    }
   ],
   "source": [
    "a = ''.join([random.choice('ATGC') for i in range(30)])\n",
    "a"
   ]
  },
  {
   "cell_type": "code",
   "execution_count": 84,
   "id": "cb59b5fd-668b-414c-9d47-3f1a2b39b509",
   "metadata": {},
   "outputs": [],
   "source": [
    "def thymine_to_uracil(nucleobase):\n",
    "    if nucleobase == 'T':\n",
    "        return 'U'\n",
    "    \n",
    "    return nucleobase"
   ]
  },
  {
   "cell_type": "code",
   "execution_count": 85,
   "id": "76a5c592-e06c-4133-9c66-b315b1ee3911",
   "metadata": {},
   "outputs": [
    {
     "data": {
      "text/plain": [
       "5"
      ]
     },
     "execution_count": 85,
     "metadata": {},
     "output_type": "execute_result"
    }
   ],
   "source": [
    "thymine_to_uracil(5)"
   ]
  },
  {
   "cell_type": "code",
   "execution_count": 67,
   "id": "255c8e00-f10f-4be8-addd-b1c42c80249c",
   "metadata": {},
   "outputs": [
    {
     "data": {
      "text/plain": [
       "'GCGAUGACAAGCAGCUUUGAUUGCGCCAAC'"
      ]
     },
     "execution_count": 67,
     "metadata": {},
     "output_type": "execute_result"
    }
   ],
   "source": [
    "b = ''\n",
    "for i in a:\n",
    "    b += thymine_to_uracil(i)\n",
    "b"
   ]
  },
  {
   "cell_type": "code",
   "execution_count": 68,
   "id": "da526721-497e-44a4-b6a3-bd2d6864b864",
   "metadata": {},
   "outputs": [
    {
     "data": {
      "text/plain": [
       "'GCGAUGACAAGCAGCUUUGAUUGCGCCAAC'"
      ]
     },
     "execution_count": 68,
     "metadata": {},
     "output_type": "execute_result"
    }
   ],
   "source": [
    "b = ''.join(map(thymine_to_uracil, a))\n",
    "b"
   ]
  },
  {
   "cell_type": "code",
   "execution_count": 24,
   "id": "29fe0bfb-dc9b-4fdf-a643-3a64d28b4d3c",
   "metadata": {},
   "outputs": [
    {
     "data": {
      "text/plain": [
       "['a', 3, 3.5]"
      ]
     },
     "execution_count": 24,
     "metadata": {},
     "output_type": "execute_result"
    }
   ],
   "source": [
    "l = ['a', 3, 3.5]\n",
    "l"
   ]
  },
  {
   "cell_type": "code",
   "execution_count": 26,
   "id": "33fc8864-e88e-4007-a42f-fd935cdf11ff",
   "metadata": {},
   "outputs": [
    {
     "data": {
      "text/plain": [
       "(5, 3, 'n')"
      ]
     },
     "execution_count": 26,
     "metadata": {},
     "output_type": "execute_result"
    }
   ],
   "source": [
    "tup = (5, 3, 'n')\n",
    "tup"
   ]
  },
  {
   "cell_type": "code",
   "execution_count": 39,
   "id": "e1321ac6-83e2-4fa6-a08a-69208ac3fd83",
   "metadata": {},
   "outputs": [
    {
     "data": {
      "text/plain": [
       "{}"
      ]
     },
     "execution_count": 39,
     "metadata": {},
     "output_type": "execute_result"
    }
   ],
   "source": [
    "d = {'A': 'Adenine', 'T': 'Thymine'}\n",
    "d['T']\n",
    "dict()"
   ]
  },
  {
   "cell_type": "code",
   "execution_count": 97,
   "id": "7cc5e260-12fa-47a8-89d6-f2dae3a38b58",
   "metadata": {},
   "outputs": [],
   "source": [
    "class Monkey:\n",
    "    def __init__(self, brain_cells: int):\n",
    "        self.brain_cells = brain_cells\n",
    "        self.name = 'Monkey'\n",
    "        \n",
    "    def __str__(self):\n",
    "        return self.name\n",
    "        \n",
    "    def scream(self):\n",
    "        print(\"AHHHHH\")"
   ]
  },
  {
   "cell_type": "code",
   "execution_count": 99,
   "id": "61ec8c48-6976-402b-8426-049bc22e5487",
   "metadata": {},
   "outputs": [
    {
     "name": "stdout",
     "output_type": "stream",
     "text": [
      "Monkey\n"
     ]
    }
   ],
   "source": [
    "m = Monkey(20)\n",
    "print(m)"
   ]
  },
  {
   "cell_type": "code",
   "execution_count": 91,
   "id": "9289e85c-1aad-4d21-8212-43b76cda46d7",
   "metadata": {},
   "outputs": [
    {
     "name": "stdout",
     "output_type": "stream",
     "text": [
      "AHHHHH\n"
     ]
    }
   ],
   "source": [
    "m.scream()"
   ]
  },
  {
   "cell_type": "code",
   "execution_count": null,
   "id": "937ef3f3-fb2e-4e21-be47-2c5d35967683",
   "metadata": {},
   "outputs": [],
   "source": []
  }
 ],
 "metadata": {
  "kernelspec": {
   "display_name": "Python 3",
   "language": "python",
   "name": "python3"
  },
  "language_info": {
   "codemirror_mode": {
    "name": "ipython",
    "version": 3
   },
   "file_extension": ".py",
   "mimetype": "text/x-python",
   "name": "python",
   "nbconvert_exporter": "python",
   "pygments_lexer": "ipython3",
   "version": "3.10.4"
  }
 },
 "nbformat": 4,
 "nbformat_minor": 5
}
